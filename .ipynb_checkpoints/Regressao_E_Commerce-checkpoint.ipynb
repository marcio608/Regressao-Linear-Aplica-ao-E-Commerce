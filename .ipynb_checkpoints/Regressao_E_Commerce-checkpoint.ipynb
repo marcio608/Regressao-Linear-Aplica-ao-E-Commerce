{
 "cells": [
  {
   "cell_type": "code",
   "execution_count": 1,
   "id": "b2726fd0",
   "metadata": {},
   "outputs": [
    {
     "name": "stdout",
     "output_type": "stream",
     "text": [
      "Versão usada: 3.9.12\n"
     ]
    }
   ],
   "source": [
    "from platform import python_version\n",
    "print(\"Versão usada:\", python_version())"
   ]
  },
  {
   "cell_type": "code",
   "execution_count": 2,
   "id": "846ff70b",
   "metadata": {},
   "outputs": [],
   "source": [
    "#Importações\n",
    "\n",
    "import numpy as np\n",
    "import pandas as pd\n",
    "import matplotlib.pyplot as plt\n",
    "import seaborn as sns\n",
    "import sklearn\n",
    "from sklearn.model_selection import train_test_split\n",
    "from sklearn.preprocessing import StandardScaler\n",
    "from sklearn.linear_model import LinearRegression\n",
    "from sklearn.linear_model import Ridge\n",
    "from sklearn.linear_model import Lasso\n",
    "from sklearn.metrics import mean_absolute_error, mean_squared_error, r2_score, explained_variance_score\n",
    "sns.set_style('whitegrid')\n",
    "%matplotlib inline\n",
    "import warnings\n",
    "warnings.filterwarnings(\"ignore\", category=FutureWarning)"
   ]
  },
  {
   "cell_type": "code",
   "execution_count": 3,
   "id": "5c1d1d06",
   "metadata": {},
   "outputs": [
    {
     "data": {
      "text/html": [
       "<div>\n",
       "<style scoped>\n",
       "    .dataframe tbody tr th:only-of-type {\n",
       "        vertical-align: middle;\n",
       "    }\n",
       "\n",
       "    .dataframe tbody tr th {\n",
       "        vertical-align: top;\n",
       "    }\n",
       "\n",
       "    .dataframe thead th {\n",
       "        text-align: right;\n",
       "    }\n",
       "</style>\n",
       "<table border=\"1\" class=\"dataframe\">\n",
       "  <thead>\n",
       "    <tr style=\"text-align: right;\">\n",
       "      <th></th>\n",
       "      <th>tempo_cadastro_cliente</th>\n",
       "      <th>numero_medio_cliques_por_sessao</th>\n",
       "      <th>tempo_total_logado_app</th>\n",
       "      <th>tempo_total_logado_website</th>\n",
       "      <th>valor_total_gasto</th>\n",
       "    </tr>\n",
       "  </thead>\n",
       "  <tbody>\n",
       "    <tr>\n",
       "      <th>0</th>\n",
       "      <td>3.472021</td>\n",
       "      <td>33.119954</td>\n",
       "      <td>12.953263</td>\n",
       "      <td>37.034280</td>\n",
       "      <td>534.771485</td>\n",
       "    </tr>\n",
       "    <tr>\n",
       "      <th>1</th>\n",
       "      <td>4.198349</td>\n",
       "      <td>35.371876</td>\n",
       "      <td>10.572467</td>\n",
       "      <td>36.862183</td>\n",
       "      <td>537.915753</td>\n",
       "    </tr>\n",
       "    <tr>\n",
       "      <th>2</th>\n",
       "      <td>2.086348</td>\n",
       "      <td>33.976083</td>\n",
       "      <td>11.658037</td>\n",
       "      <td>37.425279</td>\n",
       "      <td>407.876378</td>\n",
       "    </tr>\n",
       "    <tr>\n",
       "      <th>3</th>\n",
       "      <td>3.605934</td>\n",
       "      <td>34.034164</td>\n",
       "      <td>13.592513</td>\n",
       "      <td>36.838657</td>\n",
       "      <td>618.845970</td>\n",
       "    </tr>\n",
       "    <tr>\n",
       "      <th>4</th>\n",
       "      <td>4.034386</td>\n",
       "      <td>32.770492</td>\n",
       "      <td>11.371767</td>\n",
       "      <td>35.261498</td>\n",
       "      <td>502.771075</td>\n",
       "    </tr>\n",
       "  </tbody>\n",
       "</table>\n",
       "</div>"
      ],
      "text/plain": [
       "   tempo_cadastro_cliente  numero_medio_cliques_por_sessao  \\\n",
       "0                3.472021                        33.119954   \n",
       "1                4.198349                        35.371876   \n",
       "2                2.086348                        33.976083   \n",
       "3                3.605934                        34.034164   \n",
       "4                4.034386                        32.770492   \n",
       "\n",
       "   tempo_total_logado_app  tempo_total_logado_website  valor_total_gasto  \n",
       "0               12.953263                   37.034280         534.771485  \n",
       "1               10.572467                   36.862183         537.915753  \n",
       "2               11.658037                   37.425279         407.876378  \n",
       "3               13.592513                   36.838657         618.845970  \n",
       "4               11.371767                   35.261498         502.771075  "
      ]
     },
     "execution_count": 3,
     "metadata": {},
     "output_type": "execute_result"
    }
   ],
   "source": [
    "#Carregando os dados\n",
    "\n",
    "dados = pd.read_csv('dataset.csv')\n",
    "dados.head()\n"
   ]
  },
  {
   "cell_type": "code",
   "execution_count": 4,
   "id": "40700796",
   "metadata": {},
   "outputs": [
    {
     "data": {
      "text/plain": [
       "(500, 5)"
      ]
     },
     "execution_count": 4,
     "metadata": {},
     "output_type": "execute_result"
    }
   ],
   "source": [
    "dados.shape"
   ]
  },
  {
   "cell_type": "code",
   "execution_count": 5,
   "id": "098ee14e",
   "metadata": {},
   "outputs": [
    {
     "name": "stdout",
     "output_type": "stream",
     "text": [
      "<class 'pandas.core.frame.DataFrame'>\n",
      "RangeIndex: 500 entries, 0 to 499\n",
      "Data columns (total 5 columns):\n",
      " #   Column                           Non-Null Count  Dtype  \n",
      "---  ------                           --------------  -----  \n",
      " 0   tempo_cadastro_cliente           500 non-null    float64\n",
      " 1   numero_medio_cliques_por_sessao  500 non-null    float64\n",
      " 2   tempo_total_logado_app           500 non-null    float64\n",
      " 3   tempo_total_logado_website       500 non-null    float64\n",
      " 4   valor_total_gasto                500 non-null    float64\n",
      "dtypes: float64(5)\n",
      "memory usage: 19.7 KB\n"
     ]
    }
   ],
   "source": [
    "\n",
    "dados.info()"
   ]
  },
  {
   "cell_type": "markdown",
   "id": "34c9b323",
   "metadata": {},
   "source": [
    "### Analise Exploratória de Dados"
   ]
  },
  {
   "cell_type": "code",
   "execution_count": null,
   "id": "0967ba00",
   "metadata": {},
   "outputs": [],
   "source": []
  }
 ],
 "metadata": {
  "kernelspec": {
   "display_name": "Python 3 (ipykernel)",
   "language": "python",
   "name": "python3"
  },
  "language_info": {
   "codemirror_mode": {
    "name": "ipython",
    "version": 3
   },
   "file_extension": ".py",
   "mimetype": "text/x-python",
   "name": "python",
   "nbconvert_exporter": "python",
   "pygments_lexer": "ipython3",
   "version": "3.9.12"
  }
 },
 "nbformat": 4,
 "nbformat_minor": 5
}
